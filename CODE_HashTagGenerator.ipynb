{
  "nbformat": 4,
  "nbformat_minor": 0,
  "metadata": {
    "colab": {
      "provenance": [],
      "gpuType": "T4",
      "include_colab_link": true
    },
    "kernelspec": {
      "name": "python3",
      "display_name": "Python 3"
    },
    "language_info": {
      "name": "python"
    },
    "accelerator": "GPU",
    "gpuClass": "standard"
  },
  "cells": [
    {
      "cell_type": "markdown",
      "metadata": {
        "id": "view-in-github",
        "colab_type": "text"
      },
      "source": [
        "<a href=\"https://colab.research.google.com/github/Abhay-codehub/Hastag-_Generator/blob/main/Assignment2_HashTagGenerator.ipynb\" target=\"_parent\"><img src=\"https://colab.research.google.com/assets/colab-badge.svg\" alt=\"Open In Colab\"/></a>"
      ]
    },
    {
      "cell_type": "code",
      "source": [
        "import tensorflow as tf\n",
        "from tensorflow.keras.preprocessing import image as keras_image\n",
        "from tensorflow.keras.applications.mobilenet_v2 import MobileNetV2, preprocess_input\n",
        "import io\n",
        "from PIL import Image\n",
        "from google.colab import files\n",
        "\n",
        "\n",
        "# Load pre-trained image recognition model\n",
        "model = MobileNetV2(weights='imagenet')\n",
        "\n",
        "# Upload image from local machine\n",
        "uploaded_file = files.upload()\n",
        "\n",
        "# Convert uploaded image to a format that can be fed into the image recognition model\n",
        "image = Image.open(io.BytesIO(uploaded_file[list(uploaded_file.keys())[0]]))\n",
        "if image.mode == 'RGBA':\n",
        "    image = image.convert('RGB')\n",
        "image = image.resize((224, 224))\n",
        "image_array = keras_image.img_to_array(image)\n",
        "image_array = preprocess_input(image_array)\n",
        "image_array = tf.expand_dims(image_array, 0)\n",
        "\n",
        "# Make prediction using the image recognition model\n",
        "prediction = model.predict(image_array)\n",
        "\n",
        "# Generate hashtags based on prediction\n",
        "labels = tf.keras.applications.imagenet_utils.decode_predictions(prediction, top=10)[0]\n",
        "hashtags = [label[1] for label in labels]\n",
        "\n",
        "# Output generated hashtags\n",
        "print('Generated hashtags:')\n",
        "print(hashtags)\n"
      ],
      "metadata": {
        "id": "EUpqf8Lw-Vq1"
      },
      "execution_count": null,
      "outputs": []
    }
  ]
}
